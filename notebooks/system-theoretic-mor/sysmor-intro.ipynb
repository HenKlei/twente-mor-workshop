{
 "cells": [
  {
   "cell_type": "code",
   "execution_count": null,
   "id": "fa56cff7-452e-4e89-a16e-4b1b70ac4378",
   "metadata": {},
   "outputs": [],
   "source": [
    "# enable logging widget\n",
    "%load_ext pymor.discretizers.builtin.gui.jupyter\n",
    "\n",
    "from IPython.display import Image, display"
   ]
  },
  {
   "cell_type": "markdown",
   "id": "8a719196",
   "metadata": {
    "slideshow": {
     "slide_type": "slide"
    }
   },
   "source": [
    "# System-theoretic Methods with pyMOR"
   ]
  },
  {
   "cell_type": "markdown",
   "id": "b86bc7e9",
   "metadata": {
    "slideshow": {
     "slide_type": "subslide"
    }
   },
   "source": [
    "## Our Goal\n",
    "\n",
    "We want to do model order reduction (MOR) for *input-output control systems*.\n",
    "\n",
    "This means:\n",
    "\n",
    "- We are given a full-order model (FOM) as an input-output system $\\Sigma\\colon u\\mapsto y$.\n",
    "  \n",
    "  ![](figures/system_fom.svg)\n",
    "- We can simulate/solve the FOM for any given input $u\\colon[0,\\infty)\\to\\mathbb{R}^m$. But this is costly.\n",
    "- We want to simulate the model, i.e. compute its output $y$, for many different $u$.\n",
    "\n",
    "**Task:**\n",
    "\n",
    "- Replace the FOM by a surrogate reduced-order model (ROM).\n",
    "- The ROM should be much faster to simulate/solve.\n",
    "- The error between the ROM and FOM solution should be small and controllable.\n",
    "\n",
    "Note: In this tutorial we will only cover the mere basics of projection-based reduction methods. The approach has been extended to other types of models (discrete-time systems, differential-algebraic systems, nonlinear systems, parametric systems, ...) and is largely independent of the specific choice of discretization method."
   ]
  },
  {
   "cell_type": "markdown",
   "id": "b626c24c",
   "metadata": {
    "slideshow": {
     "slide_type": "slide"
    }
   },
   "source": [
    "## Background: Linear Time-Invariant (LTI) Systems\n",
    "\n",
    "### First-order State-space Systems (pyMOR: [`LTIModel`](https://docs.pymor.org/main/autoapi/pymor/models/iosys/index.html#pymor.models.iosys.LTIModel))\n",
    "\n",
    "$$\n",
    "\\begin{equation}\\tag{$\\Sigma$}\n",
    "  \\begin{aligned}\n",
    "    E \\dot{x}(t) & = A x(t) + B u(t), \\\\\n",
    "    y(t) & = C x(t) + D u(t).\n",
    "  \\end{aligned}\n",
    "\\end{equation}\n",
    "$$\n",
    "\n",
    "Here\n",
    "\n",
    "- $x(t) \\in \\mathbb{R}^{n}$ is called the *state*,\n",
    "- $u(t) \\in \\mathbb{R}^{m}$ is called the *input*,\n",
    "- $y(t) \\in \\mathbb{R}^{p}$ is called the *output*\n",
    "\n",
    "of the LTI system.\n",
    "Correspondingly, we have\n",
    "\n",
    "$$\n",
    "\\begin{align*}\n",
    "  E, A \\in \\mathbb{R}^{n \\times n}, \\qquad\n",
    "  B \\in \\mathbb{R}^{n \\times m}, \\qquad\n",
    "  C \\in \\mathbb{R}^{p \\times n}, \\quad\\text{and}\\quad\n",
    "  D \\in \\mathbb{R}^{p \\times m}.\n",
    "\\end{align*}\n",
    "$$\n",
    "\n",
    "We assume\n",
    "$t \\in [0, \\infty)$,\n",
    "$x(0) = 0$,\n",
    "$E$ is invertible,\n",
    "$E^{-1} A$ is Hurwitz (i.e. all eigenvalues of $E^{-1}A$ have negative real part and the system is therefore asymptotically stable), and\n",
    "$D = 0$."
   ]
  },
  {
   "cell_type": "markdown",
   "id": "26ce2427",
   "metadata": {
    "slideshow": {
     "slide_type": "subslide"
    }
   },
   "source": [
    "## Building the FOM"
   ]
  },
  {
   "cell_type": "markdown",
   "id": "7f034c2e-fa23-4598-a8b9-c87e4c68b440",
   "metadata": {},
   "source": [
    "### Heat equation\n",
    "\n",
    "We consider the following one-dimensional heat equation over {math}`(0, 1)` with\n",
    "two inputs {math}`u_1, u_2` and three outputs {math}`y_1, y_2, y_2`:\n",
    "\n",
    "```{math}\n",
    "\\begin{align}\n",
    "    \\partial_t T(\\xi, t) & = \\partial_{\\xi \\xi} T(\\xi, t) + u_1(t),\n",
    "    & 0 < \\xi < 1,\\ t > 0, \\\\\n",
    "    -\\partial_\\xi T(0, t) & = -T(0, t) + u_2(t),\n",
    "    & t > 0, \\\\\n",
    "    \\partial_\\xi T(1, t) & = -T(1, t),\n",
    "    & t > 0, \\\\\n",
    "    y_k(t) & = 3 \\int_{\\frac{k - 1}{3}}^{\\frac{k}{3}} T(\\xi, t) \\, \\mathrm{d}\\xi,\n",
    "    & t > 0,\\ k = 1, 2, 3.\n",
    "\\end{align}\n",
    "```\n",
    "\n",
    "There are many ways of building an `LTIModel`.\n",
    "Here, we will use the\n",
    "`from_matrices` method of `LTIModel`,\n",
    "which instantiates an `LTIModel` from NumPy or SciPy matrices."
   ]
  },
  {
   "cell_type": "code",
   "execution_count": null,
   "id": "cc6b956d",
   "metadata": {
    "slideshow": {
     "slide_type": ""
    }
   },
   "outputs": [],
   "source": [
    "import numpy as np\n",
    "import scipy.sparse as sps\n",
    "\n",
    "k = 50\n",
    "n = 2 * k + 1\n",
    "\n",
    "E = sps.eye(n, format='lil')\n",
    "E[0, 0] = E[-1, -1] = 0.5\n",
    "E = E.tocsc()\n",
    "\n",
    "d0 = n * [-2 * (n - 1)**2]\n",
    "d1 = (n - 1) * [(n - 1)**2]\n",
    "A = sps.diags([d1, d0, d1], [-1, 0, 1], format='lil')\n",
    "A[0, 0] = A[-1, -1] = -n * (n - 1)\n",
    "A = A.tocsc()\n",
    "\n",
    "B = np.zeros((n, 2))\n",
    "B[:, 0] = 1\n",
    "B[0, 0] = B[-1, 0] = 0.5\n",
    "B[0, 1] = n - 1\n",
    "\n",
    "C = np.zeros((3, n))\n",
    "C[0, :n//3] = C[1, n//3:2*n//3] = C[2, 2*n//3:] = 1\n",
    "C /= C.sum(axis=1)[:, np.newaxis]"
   ]
  },
  {
   "cell_type": "code",
   "execution_count": null,
   "id": "9284c8b2-3c44-46ac-8845-afa61e040646",
   "metadata": {},
   "outputs": [],
   "source": [
    "from pymor.models.iosys import LTIModel\n",
    "fom = LTIModel.from_matrices(A, B, C, E=E)"
   ]
  },
  {
   "cell_type": "code",
   "execution_count": null,
   "id": "73c3a777",
   "metadata": {
    "slideshow": {
     "slide_type": "fragment"
    }
   },
   "outputs": [],
   "source": [
    "fom"
   ]
  },
  {
   "cell_type": "code",
   "execution_count": null,
   "id": "961ccebf",
   "metadata": {
    "slideshow": {
     "slide_type": "fragment"
    }
   },
   "outputs": [],
   "source": [
    "print(fom)"
   ]
  },
  {
   "cell_type": "markdown",
   "id": "bb90d231",
   "metadata": {
    "slideshow": {
     "slide_type": "subslide"
    }
   },
   "source": [
    "We can perform time-domain simulation, but the final time and the time stepper\n",
    "need to be specified in the `Model`."
   ]
  },
  {
   "cell_type": "code",
   "execution_count": null,
   "id": "384ef253",
   "metadata": {
    "slideshow": {
     "slide_type": "fragment"
    }
   },
   "outputs": [],
   "source": [
    "from pymor.algorithms.timestepping import ImplicitEulerTimeStepper\n",
    "\n",
    "fom = fom.with_(T=4, time_stepper=ImplicitEulerTimeStepper(200))"
   ]
  },
  {
   "cell_type": "markdown",
   "id": "c30d529f-1222-4748-afe6-d7e653c635cf",
   "metadata": {},
   "source": [
    "With this done, we can compute the output for some given input and plot it."
   ]
  },
  {
   "cell_type": "code",
   "execution_count": null,
   "id": "ff19274a-9c95-44a1-b1ec-99e7851aaa61",
   "metadata": {},
   "outputs": [],
   "source": [
    "Y = fom.output(input='[sin(4 * t[0]), sin(6 * t[0])]')\n",
    "\n",
    "import matplotlib.pyplot as plt\n",
    "plt.rcParams['axes.grid'] = True\n",
    "\n",
    "fig, ax = plt.subplots()\n",
    "for i, y in enumerate(Y.T):\n",
    "    ax.plot(np.linspace(0, fom.T, fom.time_stepper.nt + 1), y, label=f'$y_{i+1}(t)$')\n",
    "_ = ax.set(xlabel='$t$', ylabel='$y(t)$', title='Output')\n",
    "_ = ax.legend()"
   ]
  },
  {
   "cell_type": "markdown",
   "id": "df8e8dde",
   "metadata": {
    "slideshow": {
     "slide_type": "subslide"
    }
   },
   "source": [
    "Next, we simulate the impulse response, i.e.,\n",
    "the output in response to $x(0) = 0$ and $u(t) = \\delta(t)$:\n",
    "\n",
    "$$\n",
    "\\begin{align*}\n",
    "  y(t)\n",
    "  & =\n",
    "    C e^{t E^{-1} A} x(0)\n",
    "    + \\int_0^T C e^{\\tau E^{-1} A} E^{-1} B u(t - \\tau) \\operatorname{d\\!}\\tau \\\\\n",
    "  & =\n",
    "    C e^{t E^{-1} A} E^{-1} B\n",
    "\\end{align*}\n",
    "$$"
   ]
  },
  {
   "cell_type": "code",
   "execution_count": null,
   "id": "7716f962",
   "metadata": {
    "slideshow": {
     "slide_type": "fragment"
    }
   },
   "outputs": [],
   "source": [
    "y_impulse = fom.impulse_resp()\n",
    "print(y_impulse.shape)"
   ]
  },
  {
   "cell_type": "code",
   "execution_count": null,
   "id": "8923a696",
   "metadata": {
    "slideshow": {
     "slide_type": "fragment"
    }
   },
   "outputs": [],
   "source": [
    "fig, ax = plt.subplots(fom.dim_output, fom.dim_input, sharex=True, constrained_layout=True)\n",
    "for i in range(fom.dim_output):\n",
    "    for j in range(fom.dim_input):\n",
    "        ax[i, j].plot(np.linspace(0, fom.T, y_impulse.shape[0]), y_impulse[:, i, j])\n",
    "for i in range(fom.dim_output):\n",
    "    ax[i, 0].set_title(f'Output {i + 1}', loc='left', rotation='vertical', x=-0.2, y=0.2)\n",
    "for j in range(fom.dim_input):\n",
    "    ax[0, j].set_title(f'Input {j + 1}')\n",
    "    ax[-1, j].set_xlabel('Time')\n",
    "_ = fig.suptitle('Impulse response')"
   ]
  },
  {
   "cell_type": "markdown",
   "id": "e7475b7f",
   "metadata": {
    "slideshow": {
     "slide_type": "slide"
    }
   },
   "source": [
    "# Transfer Function"
   ]
  },
  {
   "cell_type": "markdown",
   "id": "b8ee5dc1",
   "metadata": {
    "slideshow": {
     "slide_type": "subslide"
    }
   },
   "source": [
    "## Laplace Transform\n",
    "\n",
    "> ### Definition\n",
    ">\n",
    "> Let $f \\colon [0, \\infty) \\to \\mathbb{R}^{n}$ be exponentially bounded with\n",
    "> bounding exponent $\\alpha$.\n",
    "> Then\n",
    "> $$\\mathcal{L}\\{f\\}(s) := \\int_0^\\infty f(\\tau) e^{-s \\tau} \\operatorname{d}\\!{\\tau}$$\n",
    "> for $\\operatorname{Re}(s) > \\alpha$ is called the ***Laplace transform*** of $f$.\n",
    "> The process of forming the Laplace transform is called\n",
    "> ***Laplace transformation***.\n",
    "\n",
    "It can be shown that the integral converges uniformly in a domain with\n",
    "$\\operatorname{Re}(s) \\ge \\beta$ for all $\\beta > \\alpha$."
   ]
  },
  {
   "cell_type": "markdown",
   "id": "1616058b",
   "metadata": {
    "slideshow": {
     "slide_type": "fragment"
    }
   },
   "source": [
    "> Allows us to map time signals to frequency signals."
   ]
  },
  {
   "cell_type": "markdown",
   "id": "106d2a41",
   "metadata": {
    "slideshow": {
     "slide_type": "subslide"
    }
   },
   "source": [
    "> ### Theorem\n",
    ">\n",
    "> Let $f, g, h \\colon [0, \\infty) \\to \\mathbb{R}^n$ be given.\n",
    "> Then the following two statements hold true:\n",
    ">\n",
    "> 1. The Laplace transformation is linear, i.e.,\n",
    ">    if $f$ and $g$ are exponentially bounded,\n",
    ">    then $h := \\gamma f + \\delta g$ is also exponentially bounded and\n",
    ">\n",
    ">    $$\n",
    "     \\mathcal{L}\\left\\{h\\right\\} = \\gamma\\mathcal{L}\\left\\{f\\right\\} +\n",
    "     \\delta\\mathcal{L}\\left\\{g\\right\\}\n",
    "     $$\n",
    ">\n",
    ">    holds for all $\\gamma, \\delta \\in \\mathbb{C}$.\n",
    "> 2. If $f \\in \\mathcal{PC}^1([0, \\infty), \\mathbb{R}^{n})$ and $\\dot{f}$ is\n",
    ">    exponentially bounded, then $f$ is exponentially bounded and\n",
    ">\n",
    ">    $$\n",
    "     \\mathcal{L}\\bigl\\{\\dot{f}\\bigr\\}(s) = s \\mathcal{L}\\{f\\}(s) - f(0).\n",
    "     $$"
   ]
  },
  {
   "cell_type": "markdown",
   "id": "8ac19013",
   "metadata": {
    "slideshow": {
     "slide_type": "fragment"
    }
   },
   "source": [
    "- $X(s) := \\mathcal{L}\\{x\\}(s)$,\n",
    "  $U(s) := \\mathcal{L}\\{u\\}(s)$, and\n",
    "  $Y(s) := \\mathcal{L}\\{y\\}(s)$\n",
    "- $A x(t) + B u(t) \\leadsto A X(s) + B U(s)$\n",
    "- $y(t) = C x(t) \\leadsto Y(s) = C X(s)$\n",
    "- $s X(s) = \\mathcal{L}\\{\\dot{x}\\}(s)$ (since $x(0) = 0$)"
   ]
  },
  {
   "cell_type": "markdown",
   "id": "fd60beda",
   "metadata": {
    "slideshow": {
     "slide_type": "subslide"
    }
   },
   "source": [
    "## Transfer Function\n",
    "\n",
    "In summary we have:\n",
    "\n",
    "- $s E X(s) = A X(s) + B U(s)$\n",
    "- $Y(s) = C X(s)$\n",
    "\n",
    "Thus the mapping from inputs to outputs in frequency domain can be expressed as\n",
    "\n",
    "$$\n",
    "H(s) = C {\\left(s E - A\\right)}^{-1} B,\n",
    "$$\n",
    "\n",
    "i.e.\n",
    "\n",
    "$$\n",
    "Y(s) = H(s) U(s).\n",
    "$$"
   ]
  },
  {
   "cell_type": "markdown",
   "id": "a274bee9",
   "metadata": {
    "slideshow": {
     "slide_type": "fragment"
    }
   },
   "source": [
    "The transfer function $H$ is analytic in $\\mathbb{C} \\setminus \\Lambda(E, A)$."
   ]
  },
  {
   "cell_type": "markdown",
   "id": "f2658e85",
   "metadata": {
    "slideshow": {
     "slide_type": "subslide"
    }
   },
   "source": [
    "### Example"
   ]
  },
  {
   "cell_type": "code",
   "execution_count": null,
   "id": "cb9f88c3",
   "metadata": {
    "slideshow": {
     "slide_type": "-"
    }
   },
   "outputs": [],
   "source": [
    "fom.transfer_function"
   ]
  },
  {
   "cell_type": "code",
   "execution_count": null,
   "id": "503ea141",
   "metadata": {
    "slideshow": {
     "slide_type": "-"
    }
   },
   "outputs": [],
   "source": [
    "fom.transfer_function.eval_tf(0)"
   ]
  },
  {
   "cell_type": "code",
   "execution_count": null,
   "id": "cf69a562",
   "metadata": {
    "slideshow": {
     "slide_type": "-"
    }
   },
   "outputs": [],
   "source": [
    "fom.transfer_function.eval_tf(1)"
   ]
  },
  {
   "cell_type": "code",
   "execution_count": null,
   "id": "14f066fd-7134-4921-8e73-da3188bde519",
   "metadata": {},
   "outputs": [],
   "source": [
    "fom.transfer_function.eval_tf(1j)"
   ]
  },
  {
   "cell_type": "markdown",
   "id": "cd090f4f",
   "metadata": {
    "slideshow": {
     "slide_type": "subslide"
    }
   },
   "source": [
    "### Frequency-Domain Analysis\n",
    "\n",
    "It is known that if the input is chosen as\n",
    "{math}`u(t) = a e^{\\xi t} \\sin(\\omega t + \\varphi) e_j`\n",
    "(where {math}`e_j` is the {math}`j`-th canonical vector),\n",
    "then\n",
    "\n",
    "```{math}\n",
    "\\lim_{t \\to \\infty}\n",
    "\\left(\n",
    "  y_i(t)\n",
    "  - a \\lvert H_{ij}(\\xi + \\boldsymbol{\\imath} \\omega) \\rvert e^{\\xi t}\n",
    "  \\sin(\\omega t + \\varphi + \\arg(H_{ij}(\\xi + \\boldsymbol{\\imath} \\omega)))\n",
    "\\right)\n",
    "= 0.\n",
    "```\n",
    "\n",
    "In words, if the input is a pure exponential,\n",
    "the frequency is preserved in the output,\n",
    "the amplitude is multiplied by the amplitude of the transfer function, and\n",
    "the phase is shifted by the argument of the transfer function.\n",
    "\n",
    "It is of interest to plot the transfer function over the imaginary axis to\n",
    "visualize how the LTI system responds to each frequency in the input.\n",
    "Since the transfer function is complex-valued (and matrix-valued),\n",
    "there are multiple ways to plot it.\n",
    "\n",
    "#### Bode Plots\n",
    "\n",
    "The Bode plot for $H$ consists of a ***magnitude plot*** and a ***phase plot***.\n",
    "\n",
    "> ##### Bode magnitude plot\n",
    ">\n",
    "> - component-wise graph of the function $\\lvert H(\\boldsymbol{\\imath} \\omega) \\rvert$\n",
    ">   for frequencies $\\omega \\in [\\omega_{\\min}, \\omega_{\\max}] \\subset \\mathbb{R}$.\n",
    "> - $\\omega$-axis is logarithmic.\n",
    "> - magnitude is given in decibels, i.e., $\\lvert H(\\boldsymbol{\\imath} \\cdot) \\rvert$ is\n",
    ">   plotted as $20 \\log_{10}(\\lvert H(\\boldsymbol{\\imath} \\cdot) \\rvert)$.\n",
    "\n",
    "> ##### Bode phase plot\n",
    ">\n",
    "> - component-wise graph of the function $\\arg{H(\\boldsymbol{\\imath} \\omega)}$\n",
    ">   for frequencies $\\omega \\in [\\omega_{\\min}, \\omega_{\\max}] \\subset \\mathbb{R}$.\n",
    "> - $\\omega$-axis is logarithmic.\n",
    "> - phase is given in degrees on a linear scale."
   ]
  },
  {
   "cell_type": "code",
   "execution_count": null,
   "id": "f9326f52",
   "metadata": {
    "slideshow": {
     "slide_type": "subslide"
    }
   },
   "outputs": [],
   "source": [
    "# w = (1e-2, 1e3)\n",
    "w, _ = fom.transfer_function.freq_resp((1e-2, 1e3))"
   ]
  },
  {
   "cell_type": "code",
   "execution_count": null,
   "id": "49b607d4",
   "metadata": {
    "slideshow": {
     "slide_type": "fragment"
    }
   },
   "outputs": [],
   "source": [
    "fig, axs = plt.subplots(6, 2, figsize=(8, 10), sharex=True, constrained_layout=True)\n",
    "_ = fom.transfer_function.bode_plot(w, ax=axs)"
   ]
  },
  {
   "cell_type": "markdown",
   "id": "7b037405",
   "metadata": {
    "slideshow": {
     "slide_type": "subslide"
    }
   },
   "source": [
    "> #### (Sigma) Magnitude Plots\n",
    ">\n",
    "> - 2-norm-wise graph of the function $H(\\boldsymbol{\\imath} \\omega)$\n",
    ">   for frequencies $\\omega \\in [\\omega_{\\min}, \\omega_{\\max}] \\subset \\mathbb{R}$.\n",
    "> - $\\omega$-axis is logarithmic.\n",
    "\n",
    "The name is due to the fact that for a given matrix $M$ the norm\n",
    "$\\lVert M \\rVert_2$ is given by its largest singular value.\n",
    "\n",
    "The real sigma magnitude plot depicts all singular values as functions of\n",
    "$\\omega$."
   ]
  },
  {
   "cell_type": "code",
   "execution_count": null,
   "id": "5c7cfd03",
   "metadata": {
    "slideshow": {
     "slide_type": "fragment"
    }
   },
   "outputs": [],
   "source": [
    "_ = fom.transfer_function.mag_plot(w)"
   ]
  },
  {
   "cell_type": "markdown",
   "id": "d4e0124a",
   "metadata": {
    "slideshow": {
     "slide_type": "slide"
    }
   },
   "source": [
    "## Projection-based MOR\n",
    "\n",
    "### Ritz/Petrov-Galerkin Projection\n",
    "\n",
    "$$\n",
    "\\begin{align*}\n",
    "  E \\dot{x}(t) - A x(t) - B u(t) & = 0, \\\\\n",
    "  y(t) - C x(t) - D u(t) & = 0.\n",
    "\\end{align*}\n",
    "$$"
   ]
  },
  {
   "cell_type": "markdown",
   "id": "aa549aee",
   "metadata": {
    "slideshow": {
     "slide_type": "subslide"
    }
   },
   "source": [
    "**Step I: Use truncated state transformation**\n",
    "\n",
    "Replace\n",
    "\n",
    "$$\n",
    "x(t) \\approx V \\hat{x}(t)\n",
    "$$\n",
    "\n",
    "with $V \\in \\mathbb{R}^{n \\times r}$ and $\\hat{x}(t) \\in \\mathbb{R}^{r}$.\n",
    "\n",
    "$$\n",
    "\\begin{align*}\n",
    "  E V \\dot{\\hat{x}}(t) - A V \\hat{x}(t) - B u(t) & = e_{\\text{res}}(t), \\\\\n",
    "  y(t) - C V \\hat{x}(t) - D u(t) & = e_{\\text{output}}(t).\n",
    "\\end{align*}\n",
    "$$"
   ]
  },
  {
   "cell_type": "markdown",
   "id": "3e812291",
   "metadata": {
    "slideshow": {
     "slide_type": "subslide"
    }
   },
   "source": [
    "**Step II: Mitigate transformation error**\n",
    "\n",
    "Suppress truncation residual through left projection.\n",
    "\n",
    "- one-sided method: use $V$ again.\n",
    "\n",
    "  $$\n",
    "  \\begin{align*}\n",
    "    V^{\\operatorname{T}} E V \\dot{\\hat{x}}(t)\n",
    "    - V^{\\operatorname{T}} A V \\hat{x}(t)\n",
    "    - V^{\\operatorname{T}} B u(t)\n",
    "    & = 0, \\\\\n",
    "    y(t) - C V \\hat{x}(t) - D u(t) & = e_{\\text{output}}(t).\n",
    "  \\end{align*}\n",
    "  $$"
   ]
  },
  {
   "cell_type": "markdown",
   "id": "bf27ba73",
   "metadata": {
    "slideshow": {
     "slide_type": "subslide"
    }
   },
   "source": [
    "- two-sided method: find $W \\in \\mathbb{R}^{n \\times r}$.\n",
    "\n",
    "  $$\n",
    "  \\begin{align*}\n",
    "    W^{\\operatorname{T}} E V \\dot{\\hat{x}}(t)\n",
    "    - W^{\\operatorname{T}} A V \\hat{x}(t)\n",
    "    - W^{\\operatorname{T}} B u(t)\n",
    "    & = 0, \\\\\n",
    "    y(t) - C V \\hat{x}(t) - D u(t) & = e_{\\text{output}}(t).\n",
    "  \\end{align*}\n",
    "  $$"
   ]
  },
  {
   "cell_type": "markdown",
   "id": "42fd8ec7",
   "metadata": {
    "slideshow": {
     "slide_type": "subslide"
    }
   },
   "source": [
    "![](figures/mor_system_fo_v2.svg)"
   ]
  },
  {
   "cell_type": "markdown",
   "id": "85079fd9",
   "metadata": {
    "slideshow": {
     "slide_type": "subslide"
    }
   },
   "source": [
    "### Reduced order model (ROM) (pyMOR: [`LTIPGReductor`](https://docs.pymor.org/main/autoapi/pymor/reductors/basic/index.html?highlight=ltipgred#pymor.reductors.basic.LTIPGReductor))\n",
    "\n",
    "Define\n",
    "$\\hat{E} = W^{\\operatorname{T}} E V$,\n",
    "$\\hat{A} = W^{\\operatorname{T}} A V \\in \\mathbb{R}^{r \\times r}$,\n",
    "$\\hat{B} = W^{\\operatorname{T}} B \\in \\mathbb{R}^{r \\times m}$, and\n",
    "$\\hat{C} = C V \\in \\mathbb{R}^{p \\times r}$.\n",
    "Then\n",
    "\n",
    "$$\n",
    "\\begin{equation}\\tag{ROM}\n",
    "  \\begin{aligned}\n",
    "    \\hat{E} \\dot{\\hat{x}}(t) & = \\hat{A} \\hat{x}(t) + \\hat{B} u(t), \\\\\n",
    "    \\hat{y}(t) & = \\hat{C} \\hat{x}(t) + D u(t)\n",
    "  \\end{aligned}\n",
    "\\end{equation}\n",
    "$$\n",
    "\n",
    "approximates the dynamics of the full-order model $\\Sigma$ with output error\n",
    "\n",
    "$$\n",
    "y(t) - \\hat{y}(t) = e_{\\text{output}}(t).\n",
    "$$\n",
    "\n",
    "- We call the corresponding transfer function $\\hat{H}$.\n",
    "- Model order reduction $\\leadsto$\n",
    "  Find $W, V \\in \\mathbb{R}^{n \\times r}$ such that $e_{\\text{output}}(t)$ is\n",
    "  small in a suitable sense.\n",
    "- We will focus on energy-based methods."
   ]
  },
  {
   "cell_type": "markdown",
   "id": "4eb38d2d",
   "metadata": {
    "slideshow": {
     "slide_type": "subslide"
    }
   },
   "source": [
    "### Example"
   ]
  },
  {
   "cell_type": "code",
   "execution_count": null,
   "id": "f2735709",
   "metadata": {
    "slideshow": {
     "slide_type": "-"
    }
   },
   "outputs": [],
   "source": [
    "from pymor.reductors.basic import LTIPGReductor\n",
    "\n",
    "V = fom.solution_space.random(10)\n",
    "pg = LTIPGReductor(fom, V, V)\n",
    "rom_pg = pg.reduce()"
   ]
  },
  {
   "cell_type": "markdown",
   "id": "b0759e21",
   "metadata": {
    "slideshow": {
     "slide_type": "subslide"
    }
   },
   "source": [
    "The resulting model `rom_pg` will again be an `LTIModel`."
   ]
  },
  {
   "cell_type": "code",
   "execution_count": null,
   "id": "45c609c8",
   "metadata": {
    "slideshow": {
     "slide_type": "-"
    }
   },
   "outputs": [],
   "source": [
    "rom_pg"
   ]
  },
  {
   "cell_type": "code",
   "execution_count": null,
   "id": "0371f436",
   "metadata": {
    "slideshow": {
     "slide_type": "subslide"
    }
   },
   "outputs": [],
   "source": [
    "_ = fom.transfer_function.mag_plot(w, label='FOM')\n",
    "_ = rom_pg.transfer_function.mag_plot(w, label='Random PG')\n",
    "_ = plt.legend()"
   ]
  },
  {
   "cell_type": "markdown",
   "id": "03561e7e",
   "metadata": {
    "slideshow": {
     "slide_type": "slide"
    }
   },
   "source": [
    "# System Analysis\n",
    "\n",
    "## System Norms and Hardy Spaces\n",
    "\n",
    "We have $$Y(s) = H(s) U(s)$$ and $$\\hat{Y}(s) = \\hat{H}(s) U(s).$$\n",
    "\n",
    "> ### Question\n",
    ">\n",
    "> What are suitable norms such that\n",
    ">\n",
    "> $$\n",
    "  \\lVert y - \\hat{y} \\rVert\n",
    "  \\le\n",
    "  \\left\\lVert H - \\hat{H} \\right\\rVert\n",
    "  \\lVert u \\rVert?\n",
    "  $$"
   ]
  },
  {
   "cell_type": "markdown",
   "id": "0bf74419",
   "metadata": {
    "slideshow": {
     "slide_type": "subslide"
    }
   },
   "source": [
    "### The Banach Space $\\mathcal{H}_\\infty^{p \\times m}$\n",
    "\n",
    "$$\n",
    "\\mathcal{H}_\\infty^{p \\times m}\n",
    ":=\n",
    "\\left\\{\n",
    "  G \\colon \\mathbb{C}^+ \\to \\mathbb{C}^{p \\times m} :\n",
    "  G \\text{ is analytic in $\\mathbb{C}^+$ and }\n",
    "  \\sup_{s \\in \\mathbb{C}^+} \\left\\lVert G(s) \\right\\rVert_2 < \\infty\n",
    "\\right\\}.\n",
    "$$"
   ]
  },
  {
   "cell_type": "markdown",
   "id": "9c47c6b5",
   "metadata": {
    "slideshow": {
     "slide_type": "fragment"
    }
   },
   "source": [
    "$\\mathcal{H}_\\infty^{p \\times m}$ is a Banach space equipped with the\n",
    "***$\\mathcal{H}_\\infty$-norm***\n",
    "\n",
    "$$\n",
    "\\left\\lVert G \\right\\rVert_{\\mathcal{H}_\\infty}\n",
    ":= \\sup_{\\omega \\in \\mathbb{R}}\n",
    "\\left\\lVert G(\\boldsymbol{\\imath} \\omega) \\right\\rVert_2.\n",
    "$$"
   ]
  },
  {
   "cell_type": "markdown",
   "id": "182d62b8",
   "metadata": {
    "slideshow": {
     "slide_type": "fragment"
    }
   },
   "source": [
    "> Can show:\n",
    ">\n",
    "> $$\n",
    "  \\lVert y - \\hat{y} \\rVert_{\\mathcal{L}_{2}}\n",
    "  \\le\n",
    "  \\left\\lVert H - \\hat{H} \\right\\rVert_{\\mathcal{H}_{\\infty}}\n",
    "  \\lVert u \\rVert_{\\mathcal{L}_{2}}.\n",
    "  $$\n",
    "\n",
    "This bound can even be shown to be sharp."
   ]
  },
  {
   "cell_type": "code",
   "execution_count": null,
   "id": "530b7797",
   "metadata": {
    "slideshow": {
     "slide_type": "subslide"
    }
   },
   "outputs": [],
   "source": [
    "fom.hinf_norm()"
   ]
  },
  {
   "cell_type": "markdown",
   "id": "bc022718",
   "metadata": {
    "slideshow": {
     "slide_type": "subslide"
    }
   },
   "source": [
    "### The Hilbert Space $\\mathcal{H}_2^{p \\times m}$\n",
    "\n",
    "$$\n",
    "\\mathcal{H}_2^{p \\times m}\n",
    ":= \\left\\{\n",
    "  G \\colon \\mathbb{C}^+ \\to \\mathbb{C}^{p \\times m} :\n",
    "  G \\text{ is analytic in $\\mathbb{C}^+$ and }\n",
    "  \\sup_{\\xi > 0}\n",
    "  \\int_{-\\infty}^\\infty\n",
    "  \\left\\lVert\n",
    "  G(\\xi + \\boldsymbol{\\imath} \\omega)\n",
    "  \\right\\rVert_{\\operatorname{F}}^2\n",
    "  \\operatorname{d}\\!{\\omega}\n",
    "  < \\infty\n",
    "\\right\\}.\n",
    "$$"
   ]
  },
  {
   "cell_type": "markdown",
   "id": "1274bfab",
   "metadata": {
    "slideshow": {
     "slide_type": "fragment"
    }
   },
   "source": [
    "$\\mathcal{H}_2^{p \\times m}$ is a Hilbert space with the inner product\n",
    "\n",
    "$$\n",
    "\\langle F, G \\rangle_{\\mathcal{H}_2}\n",
    ":=\n",
    "\\frac{1}{2 \\pi}\n",
    "\\int_{-\\infty}^\\infty\n",
    "\\operatorname{tr}\\!\\left(\n",
    "  {F(\\boldsymbol{\\imath} \\omega)}^{\\operatorname{H}}\n",
    "  G(\\boldsymbol{\\imath} \\omega)\n",
    "\\right)\n",
    "\\operatorname{d}\\!{\\omega}\n",
    "$$\n",
    "\n",
    "and induced norm\n",
    "\n",
    "$$\n",
    "\\left\\lVert G \\right\\rVert_{\\mathcal{H}_2}\n",
    ":= \\langle G, G \\rangle_{\\mathcal{H}_2}^{1/2}\n",
    "= {\n",
    "  \\left(\n",
    "    \\frac{1}{2 \\pi}\n",
    "    \\int_{-\\infty}^\\infty\n",
    "    \\left\\lVert G(\\boldsymbol{\\imath} \\omega) \\right\\rVert_{\\operatorname{F}}^2\n",
    "    \\operatorname{d}\\!{\\omega}\n",
    "  \\right)\n",
    "}^{1/2}.\n",
    "$$"
   ]
  },
  {
   "cell_type": "markdown",
   "id": "f604fc3b",
   "metadata": {
    "slideshow": {
     "slide_type": "fragment"
    }
   },
   "source": [
    "> Can show:\n",
    ">\n",
    "> $$\n",
    "  \\lVert y - \\hat{y} \\rVert_{\\mathcal{L}_{\\infty}}\n",
    "  \\le\n",
    "  \\left\\lVert H - \\hat{H} \\right\\rVert_{\\mathcal{H}_{2}}\n",
    "  \\lVert u \\rVert_{\\mathcal{L}_{2}}.\n",
    "  $$"
   ]
  },
  {
   "cell_type": "code",
   "execution_count": null,
   "id": "d0db971e",
   "metadata": {
    "slideshow": {
     "slide_type": "subslide"
    }
   },
   "outputs": [],
   "source": [
    "fom.h2_norm()"
   ]
  },
  {
   "cell_type": "markdown",
   "id": "12d4f39e",
   "metadata": {
    "slideshow": {
     "slide_type": "subslide"
    }
   },
   "source": [
    "### System Gramians and $\\mathcal{H}_{2}$ trace formula\n",
    "\n",
    "A system $\\Sigma$ with $\\Lambda(E, A) \\subset \\mathbb{C}^{-}$ is called\n",
    "***asymptotically stable***.\n",
    "Then, all state trajectories decay exponentially as $t \\to \\infty$ and\n",
    "\n",
    "- the infinite controllability and observability ***Gramians*** exist:\n",
    "\n",
    "  $$\n",
    "  \\begin{align*}\n",
    "    P\n",
    "    & =\n",
    "      \\int_0^{\\infty}\n",
    "      e^{E^{-1} A t}\n",
    "      E^{-1}\n",
    "      B B^{\\operatorname{T}}\n",
    "      E^{-\\operatorname{T}}\n",
    "      e^{A^{\\operatorname{T}} E^{-\\operatorname{T}} t}\n",
    "      \\operatorname{d}\\!{t} \\\\\n",
    "    E^{\\operatorname{T}} Q E\n",
    "    & =\n",
    "      \\int_0^{\\infty}\n",
    "      e^{A^{\\operatorname{T}} E^{-\\operatorname{T}} t}\n",
    "      C^{\\operatorname{T}} C\n",
    "      e^{E^{-1} A t}\n",
    "      \\operatorname{d}\\!{t}.\n",
    "  \\end{align*}\n",
    "  $$\n",
    "- $P$, $Q$ solve the two ***Lyapunov equations***\n",
    "\n",
    "  $$\n",
    "  A P E^{\\operatorname{T}} + E P A^{\\operatorname{T}} + B B^{\\operatorname{T}} = 0, \\qquad\n",
    "  A^{\\operatorname{T}} Q E + E^{\\operatorname{T}} Q A + C^{\\operatorname{T}} C = 0\n",
    "  $$\n",
    "<!-- - If $(A, B)$ is controllable and $(A, C)$ is observable, -->\n",
    "<!--   it moreover holds that $P = P^{\\operatorname{T}} \\succ 0$ and $Q = Q^{\\operatorname{T}} \\succ 0$. -->\n",
    "<!--   (Otherwise we just have $P = P^{\\operatorname{T}} \\succcurlyeq 0$ and -->\n",
    "<!--   $Q = Q^{\\operatorname{T}} \\succcurlyeq 0$.) -->\n",
    "- the $\\mathcal{H}_{2}$-norm can be expressed as\n",
    "\n",
    "  $$\n",
    "  \\lVert H \\rVert_{\\mathcal{H}_{2}}^{2}\n",
    "  = \\operatorname{tr}\\!\\left(C P C^{\\operatorname{T}}\\right)\n",
    "  = \\operatorname{tr}\\!\\left(B^{\\operatorname{T}} Q B\\right).\n",
    "  $$\n",
    "\n",
    "The Gramians can be used to quantify how much does the input influence the state\n",
    "(controllability) and state the output (observability).\n",
    "\n",
    "#### Energy-based interpretation of the Gramians\n",
    "\n",
    "**Controllability Gramian $P$:**\n",
    "Energy needed to reach the state $x_0$ from $0$.\n",
    "$$\n",
    "    x_0^\\top P^{-1} x_0 = \\min_u\\ \\lVert u\\rVert^2_{L^2(-\\infty,0)}\n",
    "$$\n",
    "\n",
    "**Observability Gramian $Q$:**\n",
    "Energy returned by the state $x_0$ with $u\\equiv 0$.\n",
    "$$\n",
    "    x_0^\\top Q x_0 = \\lVert y\\rVert^2_{L^2(0,\\infty)}\n",
    "$$"
   ]
  },
  {
   "cell_type": "markdown",
   "id": "34f6cf7a",
   "metadata": {
    "slideshow": {
     "slide_type": "subslide"
    }
   },
   "source": [
    "## Balancing-based MOR\n",
    "\n",
    "### Balanced Truncation aka. Lyapunov Balancing\n",
    "\n",
    "#### Idea\n",
    "\n",
    "- The system $\\Sigma$, in realization $(E = I, A, B, C)$,\n",
    "  is called ***balanced***, if the solutions $P, Q$ of the Lyapunov equations\n",
    "\n",
    "  $$\n",
    "  A P + P A^{\\operatorname{T}} + B B^{\\operatorname{T}} = 0, \\qquad\n",
    "  A^{\\operatorname{T}} Q + Q A + C^{\\operatorname{T}} C = 0,\n",
    "  $$\n",
    "\n",
    "  satisfy:\n",
    "  $P = Q = \\operatorname{diag}(\\sigma_1, \\ldots, \\sigma_n)$\n",
    "  where\n",
    "  $\\sigma_1 \\ge \\sigma_2 \\ge \\cdots \\ge \\sigma_n > 0$."
   ]
  },
  {
   "cell_type": "markdown",
   "id": "c4e2df4a",
   "metadata": {
    "slideshow": {
     "slide_type": "fragment"
    }
   },
   "source": [
    "- $\\{\\sigma_1, \\ldots, \\sigma_n\\}$ are the *Hankel singular values (HSVs)* of\n",
    "  $\\Sigma$."
   ]
  },
  {
   "cell_type": "markdown",
   "id": "36c136d2",
   "metadata": {
    "slideshow": {
     "slide_type": "fragment"
    }
   },
   "source": [
    "- A so-called ***balanced realization*** is computed via state-space transformation\n",
    "\n",
    "  $$\n",
    "  \\begin{align*}\n",
    "    \\mathcal{T} \\colon (I, A, B, C) \\mapsto {} & (I, T A T^{-1}, T B, C T^{-1}) \\\\\n",
    "    & =\n",
    "      \\left(\n",
    "        I,\n",
    "        \\begin{bmatrix}\n",
    "          A_{11} & A_{12} \\\\\n",
    "          A_{21} & A_{22}\n",
    "        \\end{bmatrix},\n",
    "        \\begin{bmatrix}\n",
    "          B_{1} \\\\\n",
    "          B_{2}\n",
    "        \\end{bmatrix},\n",
    "        \\begin{bmatrix}\n",
    "          C_{1} & C_{2}\n",
    "        \\end{bmatrix}\n",
    "      \\right).\n",
    "  \\end{align*}\n",
    "  $$"
   ]
  },
  {
   "cell_type": "markdown",
   "id": "853be723",
   "metadata": {},
   "source": [
    "- In a balanced realization the state variables are sorted based on their\n",
    "  contribution to the input-output mapping."
   ]
  },
  {
   "cell_type": "markdown",
   "id": "0b4fae06",
   "metadata": {
    "slideshow": {
     "slide_type": "fragment"
    }
   },
   "source": [
    "- Truncation removes state variables which are not important for input-output\n",
    "  behavior $\\leadsto$ reduced order model:\n",
    "  $(I, \\hat{A}, \\hat{B}, \\hat{C}) = (I, A_{11}, B_{1}, C_{1})$."
   ]
  },
  {
   "cell_type": "markdown",
   "id": "3a020df2",
   "metadata": {
    "slideshow": {
     "slide_type": "subslide"
    }
   },
   "source": [
    "### Implementation: The Square Root Method\n",
    "\n",
    "#### The SR Method (pyMOR: [`BTReductor`](https://docs.pymor.org/main/autoapi/pymor/reductors/bt/index.html?highlight=btreductor#pymor.reductors.bt.BTReductor))\n",
    "\n",
    "1. Compute (Cholesky) factors of the solutions to the Lyapunov equation,\n",
    "\n",
    "   $$\n",
    "   P = S^{\\operatorname{T}} S, \\quad\n",
    "   Q = R^{\\operatorname{T}} R.\n",
    "   $$"
   ]
  },
  {
   "cell_type": "markdown",
   "id": "6cf290fb",
   "metadata": {
    "slideshow": {
     "slide_type": "fragment"
    }
   },
   "source": [
    "2. Compute singular value decomposition\n",
    "\n",
    "   $$\n",
    "   S R^{\\operatorname{T}}\n",
    "   =\n",
    "   \\begin{bmatrix}\n",
    "     U_1 & U_2\n",
    "   \\end{bmatrix}\n",
    "   \\begin{bmatrix}\n",
    "     \\Sigma_1 & 0 \\\\\n",
    "     0 & \\Sigma_2\n",
    "   \\end{bmatrix}\n",
    "   \\begin{bmatrix}\n",
    "     V_1^{\\operatorname{T}} \\\\\n",
    "     V_2^{\\operatorname{T}}\n",
    "   \\end{bmatrix}.\n",
    "   $$"
   ]
  },
  {
   "cell_type": "markdown",
   "id": "c28bd86b",
   "metadata": {
    "slideshow": {
     "slide_type": "fragment"
    }
   },
   "source": [
    "3. Define\n",
    "\n",
    "   $$\n",
    "   W := R^{\\operatorname{T}} V_1 \\Sigma_1^{-1/2}, \\quad\n",
    "   V := S^{\\operatorname{T}} U_1 \\Sigma_1^{-1/2}.\n",
    "   $$\n",
    "4. Then the reduced-order model is\n",
    "   $(W^{\\operatorname{T}} A V, W^{\\operatorname{T}} B, C V)$."
   ]
  },
  {
   "cell_type": "markdown",
   "id": "5818d697",
   "metadata": {
    "slideshow": {
     "slide_type": "subslide"
    }
   },
   "source": [
    "#### Properties\n",
    "\n",
    "- Lyapunov balancing **preserves asymptotic stability**.\n",
    "- We have the **a priori error bound**:\n",
    "  $$\n",
    "  \\left\\lVert H - \\hat{H} \\right\\rVert_{\\mathcal{H}_{\\infty}}\n",
    "  \\le\n",
    "  2 \\sum\\limits_{k = r + 1}^{n} \\sigma_{k}\n",
    "  $$"
   ]
  },
  {
   "cell_type": "code",
   "execution_count": null,
   "id": "b227cfda",
   "metadata": {
    "slideshow": {
     "slide_type": "subslide"
    }
   },
   "outputs": [],
   "source": [
    "from pymor.reductors.bt import BTReductor\n",
    "\n",
    "bt = BTReductor(fom)\n",
    "rom = bt.reduce(10)"
   ]
  },
  {
   "cell_type": "code",
   "execution_count": null,
   "id": "7742391f-2b19-4973-91d8-437c14b3d7df",
   "metadata": {},
   "outputs": [],
   "source": [
    "rom"
   ]
  },
  {
   "cell_type": "markdown",
   "id": "8b60f459-3452-4c27-823d-379b9d24d73b",
   "metadata": {},
   "source": [
    "Let us compare the Magnitude plots of the FOM and the ROM:"
   ]
  },
  {
   "cell_type": "code",
   "execution_count": null,
   "id": "df4e9f2c",
   "metadata": {
    "slideshow": {
     "slide_type": "subslide"
    }
   },
   "outputs": [],
   "source": [
    "w = (1e-2, 1e3)\n",
    "fig, ax = plt.subplots()\n",
    "fom.transfer_function.mag_plot(w, ax=ax, label='FOM')\n",
    "rom.transfer_function.mag_plot(w, ax=ax, linestyle='--', label='ROM')\n",
    "_ = ax.legend()"
   ]
  },
  {
   "cell_type": "markdown",
   "id": "d68ca773-59fa-46d6-8c90-9f1090175443",
   "metadata": {},
   "source": [
    "And the Bode plots:"
   ]
  },
  {
   "cell_type": "code",
   "execution_count": null,
   "id": "9caed6b1-cf37-44c4-a8fd-ee4a88c33e39",
   "metadata": {},
   "outputs": [],
   "source": [
    "fig, axs = plt.subplots(6, 2, figsize=(8, 10), sharex=True, constrained_layout=True)\n",
    "fom.transfer_function.bode_plot(w, ax=axs)\n",
    "_ = rom.transfer_function.bode_plot(w, ax=axs, linestyle='--')"
   ]
  },
  {
   "cell_type": "code",
   "execution_count": null,
   "id": "298fc904",
   "metadata": {
    "slideshow": {
     "slide_type": "subslide"
    }
   },
   "outputs": [],
   "source": [
    "err = fom - rom"
   ]
  },
  {
   "cell_type": "markdown",
   "id": "2bd7f3f1-5274-42db-bc85-ed53560014bb",
   "metadata": {},
   "source": [
    "Finally, we can compute the relative errors in different system norms:"
   ]
  },
  {
   "cell_type": "code",
   "execution_count": null,
   "id": "70822427-1b55-4304-807e-f2f682499994",
   "metadata": {},
   "outputs": [],
   "source": [
    "print(f'Relative Hinf error:   {err.hinf_norm() / fom.hinf_norm():.3e}')\n",
    "print(f'Relative H2 error:     {err.h2_norm() / fom.h2_norm():.3e}')"
   ]
  },
  {
   "cell_type": "markdown",
   "id": "89760c4c",
   "metadata": {
    "slideshow": {
     "slide_type": "subslide"
    }
   },
   "source": [
    "#### Variants (pyMOR: [`PRBTReductor`](https://docs.pymor.org/main/autoapi/pymor/reductors/bt/index.html?highlight=btreductor#pymor.reductors.bt.PRBTReductor), [`BRBTReductor`](https://docs.pymor.org/main/autoapi/pymor/reductors/bt/index.html?highlight=btreductor#pymor.reductors.bt.BRBTReductor), [`LQGBTReductor`](https://docs.pymor.org/main/autoapi/pymor/reductors/bt/index.html?highlight=btreductor#pymor.reductors.bt.LQGBTReductor))\n",
    "\n",
    "Other versions for special classes of systems or applications exist, such as\n",
    "\n",
    "- **positive-real balancing** (passivity-preserving),\n",
    "- **bounded-real balancing** (contractivity-preserving),\n",
    "- **linear-quadratic Gaussian balancing**\n",
    "  (stability preserving, aims at low-order output feedback controllers).\n",
    "\n",
    "The given ones all compute $P, Q$ as solutions of ***algebraic Riccati\n",
    "equations*** of the form:\n",
    "\n",
    "$$\n",
    "\\begin{align*}\n",
    "  0\n",
    "  & =\n",
    "    \\tilde{A} P \\tilde{E}^{\\operatorname{T}}\n",
    "    + \\tilde{E} P \\tilde{A}^{\\operatorname{T}}\n",
    "    + \\tilde{B} \\tilde{B}^{\\operatorname{T}}\n",
    "    \\pm \\tilde{E} P \\tilde{C}^{\\operatorname{T}} \\tilde{C} P \\tilde{E}^{\\operatorname{T}} \\\\\n",
    "  0\n",
    "  & =\n",
    "    \\tilde{A}^{\\operatorname{T}} Q \\tilde{E}\n",
    "    + \\tilde{E}^{\\operatorname{T}} Q \\tilde{A}\n",
    "    + \\tilde{C}^{\\operatorname{T}} \\tilde{C}\n",
    "    \\pm \\tilde{E}^{\\operatorname{T}} Q \\tilde{B} \\tilde{B}^{\\operatorname{T}} Q \\tilde{E}.\n",
    "\\end{align*}\n",
    "$$"
   ]
  },
  {
   "cell_type": "markdown",
   "id": "46392991-a983-495f-a424-187d9279e128",
   "metadata": {},
   "source": [
    "## Further methods implemented in pyMOR\n",
    "\n",
    "- **Modal truncation:** Based on eigenvalues of $A$; does not take input and output into account.\n",
    "- **Interpolatory methods such as IRKA:** Based on interpolation of the transfer function.\n",
    "- **Methods for particular systems:** Port-Hamiltonian systems (structure preserving MOR), second order systems, etc."
   ]
  }
 ],
 "metadata": {
  "kernelspec": {
   "display_name": "Python 3 (ipykernel)",
   "language": "python",
   "name": "python3"
  },
  "language_info": {
   "codemirror_mode": {
    "name": "ipython",
    "version": 3
   },
   "file_extension": ".py",
   "mimetype": "text/x-python",
   "name": "python",
   "nbconvert_exporter": "python",
   "pygments_lexer": "ipython3",
   "version": "3.10.12"
  }
 },
 "nbformat": 4,
 "nbformat_minor": 5
}
